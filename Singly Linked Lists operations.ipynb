{
 "cells": [
  {
   "cell_type": "markdown",
   "id": "e5503164",
   "metadata": {},
   "source": [
    "# Linked Lists"
   ]
  },
  {
   "cell_type": "markdown",
   "id": "a570234d",
   "metadata": {},
   "source": [
    "# a) Singly Linked Lists\n",
    "**Operations on Linked List:**\n",
    "* Traversing the Linked List \n",
    "* Inserting an item in Linked List\n",
    "* Deleting an item in Linked List\n"
   ]
  },
  {
   "cell_type": "code",
   "execution_count": 41,
   "id": "7a58756b",
   "metadata": {},
   "outputs": [],
   "source": [
    "class Node:\n",
    "    def __init__(self,data=None):\n",
    "        self.data=data\n",
    "        self.next=None\n",
    "    def setnext(self,next):\n",
    "        self.next=next"
   ]
  },
  {
   "cell_type": "code",
   "execution_count": 42,
   "id": "edb50f15",
   "metadata": {},
   "outputs": [],
   "source": [
    "head=Node(5)"
   ]
  },
  {
   "cell_type": "code",
   "execution_count": 43,
   "id": "70e322dd",
   "metadata": {},
   "outputs": [],
   "source": [
    "head.next=Node(4)"
   ]
  },
  {
   "cell_type": "code",
   "execution_count": 44,
   "id": "a26d0241",
   "metadata": {},
   "outputs": [
    {
     "name": "stdout",
     "output_type": "stream",
     "text": [
      "5 --> 4 --> None\n"
     ]
    }
   ],
   "source": [
    "while head:\n",
    "    print(head.data,'-->',end=\" \")\n",
    "    head=head.next\n",
    "print('None')"
   ]
  },
  {
   "cell_type": "markdown",
   "id": "c5d88e00",
   "metadata": {},
   "source": [
    "# Traversing LL "
   ]
  },
  {
   "cell_type": "markdown",
   "id": "caf512b9",
   "metadata": {},
   "source": [
    "lets create a LinkedList of length 6"
   ]
  },
  {
   "cell_type": "code",
   "execution_count": 45,
   "id": "0d7773bc",
   "metadata": {},
   "outputs": [],
   "source": [
    "head=Node(1)\n",
    "curr=head\n",
    "i=0\n",
    "while i<5:\n",
    "    curr.next=Node(i+2)\n",
    "    curr=curr.next\n",
    "    i+=1"
   ]
  },
  {
   "cell_type": "markdown",
   "id": "446996e6",
   "metadata": {},
   "source": [
    "Now we will traverse the LL"
   ]
  },
  {
   "cell_type": "code",
   "execution_count": 46,
   "id": "4fe5f19b",
   "metadata": {},
   "outputs": [
    {
     "name": "stdout",
     "output_type": "stream",
     "text": [
      "1 -> 2 -> 3 -> 4 -> 5 -> 6\n"
     ]
    }
   ],
   "source": [
    "curr=head\n",
    "while curr.next:\n",
    "    print(curr.data,'->',end=\" \")\n",
    "    curr=curr.next\n",
    "print(curr.data)"
   ]
  },
  {
   "cell_type": "markdown",
   "id": "421d188d",
   "metadata": {},
   "source": [
    "# Inserion of item in Linked List"
   ]
  },
  {
   "cell_type": "markdown",
   "id": "4c67ade8",
   "metadata": {},
   "source": [
    "case 1: insertion before head"
   ]
  },
  {
   "cell_type": "markdown",
   "id": "1b2c1430",
   "metadata": {},
   "source": [
    "let us insert Node having value 0"
   ]
  },
  {
   "cell_type": "code",
   "execution_count": 47,
   "id": "d9d495b3",
   "metadata": {},
   "outputs": [],
   "source": [
    "Newnode=Node(0)\n",
    "Newnode.next=head\n",
    "head=Newnode"
   ]
  },
  {
   "cell_type": "code",
   "execution_count": 48,
   "id": "001c8fdd",
   "metadata": {},
   "outputs": [
    {
     "name": "stdout",
     "output_type": "stream",
     "text": [
      "0 -> 1 -> 2 -> 3 -> 4 -> 5 -> 6\n"
     ]
    }
   ],
   "source": [
    "curr=head\n",
    "while curr.next:\n",
    "    print(curr.data,'->',end=\" \")\n",
    "    curr=curr.next\n",
    "print(curr.data)"
   ]
  },
  {
   "cell_type": "markdown",
   "id": "c3cdbaaf",
   "metadata": {},
   "source": [
    "case 2: Insertion at end\n",
    "\n",
    "for inserting at end, we have to traverse the LL until reach end. Then we will insert the node."
   ]
  },
  {
   "cell_type": "code",
   "execution_count": 49,
   "id": "72f564f6",
   "metadata": {},
   "outputs": [],
   "source": [
    "Newnode=Node(7)\n",
    "curr=head\n",
    "while curr.next:\n",
    "    curr=curr.next\n",
    "curr.next=Newnode"
   ]
  },
  {
   "cell_type": "code",
   "execution_count": 50,
   "id": "5117a46f",
   "metadata": {},
   "outputs": [
    {
     "name": "stdout",
     "output_type": "stream",
     "text": [
      "0 -> 1 -> 2 -> 3 -> 4 -> 5 -> 6 -> 7\n"
     ]
    }
   ],
   "source": [
    "curr=head\n",
    "while curr.next:\n",
    "    print(curr.data,'->',end=\" \")\n",
    "    curr=curr.next\n",
    "print(curr.data)"
   ]
  },
  {
   "cell_type": "markdown",
   "id": "4aefeaef",
   "metadata": {},
   "source": [
    "case 3: Insertion at somewhere in between LL"
   ]
  },
  {
   "cell_type": "code",
   "execution_count": 51,
   "id": "63fd4e15",
   "metadata": {},
   "outputs": [],
   "source": [
    "def insert(pos,data,head):\n",
    "    if pos==0:\n",
    "        Newnode=Node(data)\n",
    "        Newnode.next=head\n",
    "        head=Newnode\n",
    "        \n",
    "    i=0\n",
    "    curr=head\n",
    "    while i<pos and curr:\n",
    "        curr=curr.next\n",
    "        i+=1\n",
    "    if curr:\n",
    "        temp=curr.next\n",
    "        curr.next=Node(data)\n",
    "        curr.next.next=temp\n",
    "    else:\n",
    "        curr.next=Node(data)\n",
    "    curr=head\n",
    "    while curr.next:\n",
    "        print(curr.data,'->',end=\" \")\n",
    "        curr=curr.next\n",
    "    print(curr.data)\n",
    "    "
   ]
  },
  {
   "cell_type": "code",
   "execution_count": 52,
   "id": "7e660ac2",
   "metadata": {},
   "outputs": [
    {
     "name": "stdout",
     "output_type": "stream",
     "text": [
      "0 -> 1 -> 2 -> 3 -> 4 -> 8 -> 5 -> 6 -> 7\n"
     ]
    }
   ],
   "source": [
    "insert(4,8,head)"
   ]
  },
  {
   "cell_type": "markdown",
   "id": "bb3fa586",
   "metadata": {},
   "source": [
    "# Delete an item in LinkedList"
   ]
  },
  {
   "cell_type": "markdown",
   "id": "2dee5134",
   "metadata": {},
   "source": [
    "case 1: Delete head\n",
    "\n",
    "case 2: Delete a node where it lies somewhere(not at beginning)"
   ]
  },
  {
   "cell_type": "code",
   "execution_count": 53,
   "id": "35d20e17",
   "metadata": {},
   "outputs": [],
   "source": [
    "def delete(head,item):\n",
    "    #case 1\n",
    "    if item==head.data:\n",
    "        head=head.next\n",
    "        curr=head\n",
    "        while curr.next:\n",
    "            print(curr.data,'->',end=\" \")\n",
    "            curr=curr.next\n",
    "        print(curr.data)\n",
    "        return\n",
    "    #case 2\n",
    "    curr=head.next\n",
    "    prev=head\n",
    "    while curr:\n",
    "        if curr.data==item:\n",
    "            prev.next=curr.next\n",
    "        prev=curr\n",
    "        curr=curr.next\n",
    "    curr=head\n",
    "    while curr.next:\n",
    "        print(curr.data,'->',end=\" \")\n",
    "        curr=curr.next\n",
    "    print(curr.data)"
   ]
  },
  {
   "cell_type": "code",
   "execution_count": 54,
   "id": "0dbe165a",
   "metadata": {},
   "outputs": [
    {
     "name": "stdout",
     "output_type": "stream",
     "text": [
      "1 -> 2 -> 3 -> 4 -> 8 -> 5 -> 6 -> 7\n"
     ]
    }
   ],
   "source": [
    "#case1\n",
    "delete(head,0)"
   ]
  },
  {
   "cell_type": "code",
   "execution_count": 55,
   "id": "1c677ccc",
   "metadata": {},
   "outputs": [
    {
     "name": "stdout",
     "output_type": "stream",
     "text": [
      "0 -> 1 -> 2 -> 3 -> 4 -> 8 -> 6 -> 7\n",
      "0 -> 1 -> 2 -> 3 -> 4 -> 8 -> 6\n"
     ]
    }
   ],
   "source": [
    "#case2\n",
    "delete(head,5)\n",
    "delete(head,7)"
   ]
  },
  {
   "cell_type": "code",
   "execution_count": null,
   "id": "d89ac455",
   "metadata": {},
   "outputs": [],
   "source": []
  }
 ],
 "metadata": {
  "kernelspec": {
   "display_name": "Python 3 (ipykernel)",
   "language": "python",
   "name": "python3"
  },
  "language_info": {
   "codemirror_mode": {
    "name": "ipython",
    "version": 3
   },
   "file_extension": ".py",
   "mimetype": "text/x-python",
   "name": "python",
   "nbconvert_exporter": "python",
   "pygments_lexer": "ipython3",
   "version": "3.9.7"
  }
 },
 "nbformat": 4,
 "nbformat_minor": 5
}
